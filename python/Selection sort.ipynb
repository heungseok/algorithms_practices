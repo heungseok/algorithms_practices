{
 "cells": [
  {
   "cell_type": "code",
   "execution_count": 20,
   "metadata": {
    "scrolled": true
   },
   "outputs": [
    {
     "name": "stdout",
     "output_type": "stream",
     "text": [
      "5\n",
      "-30\n",
      "-40\n",
      "50\n",
      "10\n",
      "100\n",
      "0 -30\n",
      "1 -30\n",
      "2 50\n",
      "3 50\n",
      "-40\n",
      "-30\n",
      "10\n",
      "50\n",
      "100\n"
     ]
    }
   ],
   "source": [
    "###### Selection sort ###\n",
    "# array의 앞부터 작은 순서대로 sort / anchor index를 대상으로 나머지 index들사이의 minimum 값을 anchor index에 삽입.\n",
    "# time = O(n^2)\n",
    "# space = O(n)\n",
    "\n",
    "N = int(input())\n",
    "arr = []\n",
    "for i in range(N):\n",
    "    arr.append(int(input()))\n",
    "\n",
    "# selection sort\n",
    "for i in range(len(arr)-1):\n",
    "\n",
    "    min_index = i+1\n",
    "    for j in range(i+1, len(arr)-1):\n",
    "        \n",
    "        if(arr[min_index] > arr[j+1]):\n",
    "            min_index = j+1\n",
    "                \n",
    "    if(arr[i] > arr[min_index]):\n",
    "        temp = arr[i]\n",
    "        arr[i] = arr[min_index]\n",
    "        arr[min_index] = temp\n",
    "        \n",
    "for i in range(len(arr)):\n",
    "    print(arr[i])"
   ]
  },
  {
   "cell_type": "code",
   "execution_count": 10,
   "metadata": {},
   "outputs": [
    {
     "name": "stdout",
     "output_type": "stream",
     "text": [
      "3\n",
      "4\n"
     ]
    }
   ],
   "source": [
    "for i in range(3, 5):\n",
    "    print(i)"
   ]
  }
 ],
 "metadata": {
  "kernelspec": {
   "display_name": "Python 3",
   "language": "python",
   "name": "python3"
  },
  "language_info": {
   "codemirror_mode": {
    "name": "ipython",
    "version": 3
   },
   "file_extension": ".py",
   "mimetype": "text/x-python",
   "name": "python",
   "nbconvert_exporter": "python",
   "pygments_lexer": "ipython3",
   "version": "3.5.3"
  }
 },
 "nbformat": 4,
 "nbformat_minor": 2
}
