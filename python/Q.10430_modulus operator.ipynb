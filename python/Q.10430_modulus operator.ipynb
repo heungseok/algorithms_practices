{
 "cells": [
  {
   "cell_type": "code",
   "execution_count": 5,
   "metadata": {},
   "outputs": [
    {
     "name": "stdout",
     "output_type": "stream",
     "text": [
      "1 1 1\n",
      "2 1 3\n",
      "2 2 100000000000\n",
      "2 2 10000\n"
     ]
    }
   ],
   "source": [
    "def input_validation(num):\n",
    "    if num >=2 and num <= 10000:\n",
    "        return True\n",
    "    \n",
    "while(1):\n",
    "    A, B, C = map(int, input().split())\n",
    "    \n",
    "    # validate input\n",
    "    if(input_validation(A) and input_validation(B) and input_validation(C)):\n",
    "        break\n",
    "    "
   ]
  }
 ],
 "metadata": {
  "kernelspec": {
   "display_name": "Python 3",
   "language": "python",
   "name": "python3"
  },
  "language_info": {
   "codemirror_mode": {
    "name": "ipython",
    "version": 3
   },
   "file_extension": ".py",
   "mimetype": "text/x-python",
   "name": "python",
   "nbconvert_exporter": "python",
   "pygments_lexer": "ipython3",
   "version": "3.5.3"
  }
 },
 "nbformat": 4,
 "nbformat_minor": 2
}
