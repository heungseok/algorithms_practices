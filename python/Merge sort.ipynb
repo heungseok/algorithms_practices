{
 "cells": [
  {
   "cell_type": "code",
   "execution_count": 21,
   "metadata": {
    "collapsed": true
   },
   "outputs": [],
   "source": [
    "### Merge sort ###\n",
    "def merge_sort(array):\n",
    "    if(len(array)>1):\n",
    "        # 반으로 자름.\n",
    "        half = len(array)//2 # // operator: 소수점 버림\n",
    "\n",
    "        # left, right로 나눔\n",
    "        left = array[:half]\n",
    "        right = array[half:]\n",
    "#         print(left)\n",
    "#         print(right)\n",
    "\n",
    "        # 다시 나눔\n",
    "        l = merge_sort(left)\n",
    "        r = merge_sort(right)\n",
    "        \n",
    "        return merge(l, r)\n",
    "    else:\n",
    "        return array"
   ]
  },
  {
   "cell_type": "code",
   "execution_count": 22,
   "metadata": {},
   "outputs": [],
   "source": [
    "def merge(left, right):\n",
    "    # i:왼쪽 array의 index, j:오른쪽 array의 index\n",
    "    i=0\n",
    "    j=0\n",
    "    # 결과값 저장 array\n",
    "    res_arr = []\n",
    "#     print(left)\n",
    "#     print(right)\n",
    "    \n",
    "    while (i<len(left) and j<len(right)): # 둘중 하나의 array라도 순회됬을 경우 while loop break\n",
    "        if(left[i] < right[j]):\n",
    "            res_arr.append(left[i])\n",
    "            i += 1\n",
    "        else:\n",
    "            res_arr.append(right[j])\n",
    "            j += 1\n",
    "    \n",
    "    while(i<len(left)):\n",
    "        res_arr.append(left[i])\n",
    "        i += 1\n",
    "        \n",
    "    while(j<len(right)):\n",
    "        res_arr.append(right[j])\n",
    "        j += 1\n",
    "    \n",
    "    print(res_arr)\n",
    "    return res_arr"
   ]
  },
  {
   "cell_type": "code",
   "execution_count": 24,
   "metadata": {},
   "outputs": [
    {
     "name": "stdout",
     "output_type": "stream",
     "text": [
      "[10, 2, 3]\n",
      "[40, -40, 40, 30]\n",
      "[10]\n",
      "[2, 3]\n",
      "[2]\n",
      "[3]\n",
      "[2, 3]\n",
      "[2, 3, 10]\n",
      "[40, -40]\n",
      "[40, 30]\n",
      "[40]\n",
      "[-40]\n",
      "[-40, 40]\n",
      "[40]\n",
      "[30]\n",
      "[30, 40]\n",
      "[-40, 30, 40, 40]\n",
      "[-40, 2, 3, 10, 30, 40, 40]\n",
      "[-40, 2, 3, 10, 30, 40, 40]\n"
     ]
    }
   ],
   "source": [
    "origin_arr = [10,2,3,40,-40,40,30]\n",
    "res_arr = merge_sort(origin_arr)\n",
    "print(res_arr)"
   ]
  }
 ],
 "metadata": {
  "kernelspec": {
   "display_name": "Python 3",
   "language": "python",
   "name": "python3"
  },
  "language_info": {
   "codemirror_mode": {
    "name": "ipython",
    "version": 3
   },
   "file_extension": ".py",
   "mimetype": "text/x-python",
   "name": "python",
   "nbconvert_exporter": "python",
   "pygments_lexer": "ipython3",
   "version": "3.5.3"
  }
 },
 "nbformat": 4,
 "nbformat_minor": 2
}
