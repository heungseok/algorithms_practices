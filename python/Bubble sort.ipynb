{
 "cells": [
  {
   "cell_type": "code",
   "execution_count": 8,
   "metadata": {},
   "outputs": [
    {
     "name": "stdout",
     "output_type": "stream",
     "text": [
      "[-300, -30, 20, 30, 40]\n"
     ]
    }
   ],
   "source": [
    "### Bubble sort ###\n",
    "# 인접 원소와 비교하여 정렬\n",
    "# time complexity O(n^2)\n",
    "# space complexity O(n)\n",
    "# simple\n",
    "\n",
    "arr = [30, -30, 40, 20, -300]\n",
    "# arr = [5, 4, 3, 2, 1]\n",
    "\n",
    "# bubble sort\n",
    "for i in range(len(arr)):\n",
    "    for j in range(len(arr)-1):\n",
    "        if(arr[j] > arr[j+1]):\n",
    "            temp = arr[j]\n",
    "            arr[j] = arr[j+1]\n",
    "            arr[j+1] = temp\n",
    "\n",
    "# result\n",
    "print(arr)\n",
    "    \n"
   ]
  }
 ],
 "metadata": {
  "kernelspec": {
   "display_name": "Python 3",
   "language": "python",
   "name": "python3"
  },
  "language_info": {
   "codemirror_mode": {
    "name": "ipython",
    "version": 3
   },
   "file_extension": ".py",
   "mimetype": "text/x-python",
   "name": "python",
   "nbconvert_exporter": "python",
   "pygments_lexer": "ipython3",
   "version": "3.5.3"
  }
 },
 "nbformat": 4,
 "nbformat_minor": 2
}
