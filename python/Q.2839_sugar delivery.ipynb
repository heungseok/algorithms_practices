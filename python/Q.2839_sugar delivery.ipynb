{
 "cells": [
  {
   "cell_type": "code",
   "execution_count": null,
   "metadata": {},
   "outputs": [],
   "source": [
    "while(1):\n",
    "    N = int(input())\n",
    "    if(N >= 3 and N <= 5000):\n",
    "        break\n",
    "        \n",
    "def minimum_bag_calculate(N, small_bag, large_bag):\n",
    "        \n",
    "    # 1st case: 먼저 large bag으로 나눔\n",
    "    \n",
    "    # 20그램과 같은 경우 바로 나누어지므로 return\n",
    "    number_of_bags = int(N/large_bag)\n",
    "    \n",
    "    if(N%large_bag==0):\n",
    "        return number_of_bags\n",
    "    \n",
    "    # 바로 나누어지지 않을 경우, 가능한 5gram 가방의 갯수부터 1씩 감소시키면서 3g과의 조합 비교\n",
    "    else:\n",
    "        \n",
    "        # 조합 고려\n",
    "        for i in range(number_of_bags, -1, -1):\n",
    "            remain = N - (i*large_bag)\n",
    "            if(remain%small_bag == 0):\n",
    "                return (i+int((remain/small_bag)))\n",
    "                \n",
    "        return -1\n",
    "            \n",
    "print(minimum_bag_calculate(N, 3, 5))"
   ]
  },
  {
   "cell_type": "code",
   "execution_count": 33,
   "metadata": {},
   "outputs": [
    {
     "name": "stdout",
     "output_type": "stream",
     "text": [
      "1\n",
      "0\n"
     ]
    }
   ],
   "source": [
    "for i in range(1, -1, -1):\n",
    "    print(i)"
   ]
  }
 ],
 "metadata": {
  "kernelspec": {
   "display_name": "Python 3",
   "language": "python",
   "name": "python3"
  },
  "language_info": {
   "codemirror_mode": {
    "name": "ipython",
    "version": 3
   },
   "file_extension": ".py",
   "mimetype": "text/x-python",
   "name": "python",
   "nbconvert_exporter": "python",
   "pygments_lexer": "ipython3",
   "version": "3.5.3"
  }
 },
 "nbformat": 4,
 "nbformat_minor": 2
}
