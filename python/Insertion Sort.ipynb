{
 "cells": [
  {
   "cell_type": "code",
   "execution_count": 22,
   "metadata": {
    "scrolled": true
   },
   "outputs": [
    {
     "name": "stdout",
     "output_type": "stream",
     "text": [
      "anchor at-0\n",
      "anchor at-1\n",
      "anchor at-2\n",
      "anchor at-3\n",
      "anchor at-4\n",
      "result\n",
      "[-40, -30, 10, 50, 100]\n"
     ]
    }
   ],
   "source": [
    "###### Insertion sort ###\n",
    "# 현재 index의 값보다 아래 index들의 값들을 비교하며 자신이 들어갈 위치를 찾는 알고리즘. \n",
    "# time = O(n^2)\n",
    "# space = O(n)\n",
    "\n",
    "\n",
    "# input data\n",
    "# N = int(input())\n",
    "# arr = []\n",
    "# for i in range(N):\n",
    "#     arr.append(int(input()))\n",
    "\n",
    "arr = [-30, -40, 50, 10, 100]\n",
    "\n",
    "#### sort array by insertion sort ####\n",
    "for i in range(len(arr)):\n",
    "    print(\"anchor at-\" + str(i))\n",
    "    \n",
    "    position = i\n",
    "    anchor = arr[i]\n",
    "    # anchor index가 0보다 클 때만(왼쪽 arr), anchor 이전의 값이 anchor 값보다 클 경우일 때까지 반복.\n",
    "    while position>0 and arr[position-1] > anchor:\n",
    "        arr[position] = arr[position-1] # 배열 오른쪽으로 밀어내기\n",
    "        position -= 1\n",
    "        \n",
    "    arr[position] = anchor\n",
    "        \n",
    "print(\"result\")\n",
    "print(arr)\n",
    "# for i in range(len(arr)):\n",
    "#     print(arr[i])"
   ]
  }
 ],
 "metadata": {
  "kernelspec": {
   "display_name": "Python 3",
   "language": "python",
   "name": "python3"
  },
  "language_info": {
   "codemirror_mode": {
    "name": "ipython",
    "version": 3
   },
   "file_extension": ".py",
   "mimetype": "text/x-python",
   "name": "python",
   "nbconvert_exporter": "python",
   "pygments_lexer": "ipython3",
   "version": "3.5.3"
  }
 },
 "nbformat": 4,
 "nbformat_minor": 2
}
