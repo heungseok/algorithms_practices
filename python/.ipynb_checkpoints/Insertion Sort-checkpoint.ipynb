{
 "cells": [
  {
   "cell_type": "code",
   "execution_count": 20,
   "metadata": {
    "scrolled": true
   },
   "outputs": [
    {
     "name": "stdout",
     "output_type": "stream",
     "text": [
      "5\n",
      "-30\n",
      "-40\n",
      "50\n",
      "10\n",
      "100\n",
      "0 -30\n",
      "1 -30\n",
      "2 50\n",
      "3 50\n",
      "-40\n",
      "-30\n",
      "10\n",
      "50\n",
      "100\n"
     ]
    }
   ],
   "source": [
    "###### Insertion sort ###\n",
    "# 현재 index의 값보다 아래 index들의 값들을 비교하며 자신이 들어갈 위치를 찾는 알고리즘. \n",
    "# time = O(n^2)\n",
    "# space = O(n)\n",
    "\n",
    "\n",
    "# input data\n",
    "N = int(input())\n",
    "arr = []\n",
    "for i in range(N):\n",
    "    arr.append(int(input()))\n",
    "\n",
    "#### sort array by insertion sort ####\n",
    "for i in range(len(arr)):\n",
    "    for j in range(i, 0, -1):\n",
    "        \n",
    "        \n",
    "for i in range(len(arr)):\n",
    "    print(arr[i])"
   ]
  },
  {
   "cell_type": "code",
   "execution_count": 8,
   "metadata": {},
   "outputs": [
    {
     "name": "stdout",
     "output_type": "stream",
     "text": [
      "1\n",
      "end\n",
      "2\n",
      "1\n",
      "end\n",
      "3\n",
      "2\n",
      "1\n",
      "end\n",
      "4\n",
      "3\n",
      "2\n",
      "1\n",
      "end\n"
     ]
    }
   ],
   "source": [
    "arr = [10,9,1,2,3]\n",
    "for i in range(len(arr)-1):\n",
    "    anchor_index = i\n",
    "    for j in range(i+1, 0, -1):\n",
    "        if(arr[anchor_index] > arr[i]):\n",
    "            temp = arr[i]\n",
    "            arr[an]\n",
    "            \n",
    "        \n",
    "    print(\"end\")"
   ]
  }
 ],
 "metadata": {
  "kernelspec": {
   "display_name": "Python 3",
   "language": "python",
   "name": "python3"
  },
  "language_info": {
   "codemirror_mode": {
    "name": "ipython",
    "version": 3
   },
   "file_extension": ".py",
   "mimetype": "text/x-python",
   "name": "python",
   "nbconvert_exporter": "python",
   "pygments_lexer": "ipython3",
   "version": "3.5.3"
  }
 },
 "nbformat": 4,
 "nbformat_minor": 2
}
