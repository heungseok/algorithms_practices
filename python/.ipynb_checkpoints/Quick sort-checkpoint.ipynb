{
 "cells": [
  {
   "cell_type": "code",
   "execution_count": 22,
   "metadata": {},
   "outputs": [],
   "source": [
    "### quick sort ###\n",
    "# time complexity: nlog(n)\n",
    "### algorithm ###\n",
    "# pivot을 선택한 후 (여기서는 마지막 인덱스), pivot보다 작은 값들은 왼쪽, 큰 값은 오른쪽으로 이동함.\n",
    "# 작은 값들(left)과 큰 값들(right)에 대해 다시 divide and conquer\n",
    "\n",
    "def quickSort(arr):\n",
    "    # array size가 1 또는 1보다 작을 경우 함수 리턴.\n",
    "    if (len(arr) <=1):\n",
    "        return arr\n",
    "    \n",
    "    left_arr, right_arr, pivotList = [],[],[]\n",
    "    pivot = arr[len(arr)-1] # 마지막 index를 피벗으로 set\n",
    "    for i in range(len(arr)-1):\n",
    "        if(arr[i] < pivot):\n",
    "            left_arr.append(arr[i])\n",
    "        elif(arr[i] >= pivot):\n",
    "            right_arr.append(arr[i])\n",
    "            \n",
    "    pivotList.append(pivot)\n",
    "    return quickSort(left_arr) + pivotList + quickSort(right_arr)\n",
    "            \n",
    "    "
   ]
  },
  {
   "cell_type": "code",
   "execution_count": 24,
   "metadata": {},
   "outputs": [
    {
     "data": {
      "text/plain": [
       "[-500, 0, 1, 2, 3, 4, 8, 300, 70274]"
      ]
     },
     "execution_count": 24,
     "metadata": {},
     "output_type": "execute_result"
    }
   ],
   "source": [
    "arr = [3,8,0,2,1,4, -500, 300, 70274]\n",
    "quickSort(arr)"
   ]
  }
 ],
 "metadata": {
  "kernelspec": {
   "display_name": "Python 3",
   "language": "python",
   "name": "python3"
  },
  "language_info": {
   "codemirror_mode": {
    "name": "ipython",
    "version": 3
   },
   "file_extension": ".py",
   "mimetype": "text/x-python",
   "name": "python",
   "nbconvert_exporter": "python",
   "pygments_lexer": "ipython3",
   "version": "3.5.3"
  }
 },
 "nbformat": 4,
 "nbformat_minor": 2
}
